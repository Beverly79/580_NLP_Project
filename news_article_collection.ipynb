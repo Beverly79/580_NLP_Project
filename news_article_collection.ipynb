{
 "cells": [
  {
   "cell_type": "code",
   "execution_count": 2,
   "metadata": {},
   "outputs": [],
   "source": [
    "from newsapi import NewsApiClient\n",
    "\n",
    "api = NewsApiClient(api_key = 'e294c16fe2524d5c80f9d979305894b2')\n",
    "\n",
    "global_news = api.get_everything(q = 'global',\n",
    "                                 sources = 'cnn',\n",
    "                                 domains = 'cnn.com',\n",
    "                                 language = 'en',\n",
    "                                 # sort_by = 'date',\n",
    "                                 page = 2)"
   ]
  },
  {
   "cell_type": "code",
   "execution_count": 3,
   "metadata": {},
   "outputs": [],
   "source": [
    "article_list = global_news['articles']\n",
    "global_headlines = [x['title'] for x in article_list]\n",
    "global_articles = [x['description'] for x in article_list]"
   ]
  },
  {
   "cell_type": "code",
   "execution_count": 4,
   "metadata": {},
   "outputs": [
    {
     "data": {
      "text/html": [
       "<div>\n",
       "<style scoped>\n",
       "    .dataframe tbody tr th:only-of-type {\n",
       "        vertical-align: middle;\n",
       "    }\n",
       "\n",
       "    .dataframe tbody tr th {\n",
       "        vertical-align: top;\n",
       "    }\n",
       "\n",
       "    .dataframe thead th {\n",
       "        text-align: right;\n",
       "    }\n",
       "</style>\n",
       "<table border=\"1\" class=\"dataframe\">\n",
       "  <thead>\n",
       "    <tr style=\"text-align: right;\">\n",
       "      <th></th>\n",
       "      <th>headline</th>\n",
       "      <th>text</th>\n",
       "    </tr>\n",
       "  </thead>\n",
       "  <tbody>\n",
       "    <tr>\n",
       "      <th>0</th>\n",
       "      <td>Opinion: The ocean's 'blue carbon' can be our ...</td>\n",
       "      <td>Our oceans store vast amounts of carbon, and p...</td>\n",
       "    </tr>\n",
       "    <tr>\n",
       "      <th>1</th>\n",
       "      <td>Australian who sexually abused children in the...</td>\n",
       "      <td>An Australian man already sentenced to life in...</td>\n",
       "    </tr>\n",
       "    <tr>\n",
       "      <th>2</th>\n",
       "      <td>Opinion: 'Africa's COP' made some big promises...</td>\n",
       "      <td>As negotiations in the Egyptian resort of Shar...</td>\n",
       "    </tr>\n",
       "    <tr>\n",
       "      <th>3</th>\n",
       "      <td>Wordle frustration inspires Cambridge Dictiona...</td>\n",
       "      <td>The endless permutations of five-letter words ...</td>\n",
       "    </tr>\n",
       "    <tr>\n",
       "      <th>4</th>\n",
       "      <td>Disney+ beats subscriber expectations but that...</td>\n",
       "      <td>Disney's fourth quarter earnings were a mix of...</td>\n",
       "    </tr>\n",
       "    <tr>\n",
       "      <th>...</th>\n",
       "      <td>...</td>\n",
       "      <td>...</td>\n",
       "    </tr>\n",
       "    <tr>\n",
       "      <th>95</th>\n",
       "      <td>Netanyahu is back. Here's what that means for ...</td>\n",
       "      <td>Benjamin Netanyahu is set to resurrect his pol...</td>\n",
       "    </tr>\n",
       "    <tr>\n",
       "      <th>96</th>\n",
       "      <td>Flight carbon calculators and offsets: How do ...</td>\n",
       "      <td>Airlines and comparison portals are all offeri...</td>\n",
       "    </tr>\n",
       "    <tr>\n",
       "      <th>97</th>\n",
       "      <td>As Biden ramps up for a Trump rematch, Democra...</td>\n",
       "      <td>Top Democrats see Republicans' unenthusiastic ...</td>\n",
       "    </tr>\n",
       "    <tr>\n",
       "      <th>98</th>\n",
       "      <td>Plant-based milk is better than dairy for the ...</td>\n",
       "      <td>Do people really need milk, considering the im...</td>\n",
       "    </tr>\n",
       "    <tr>\n",
       "      <th>99</th>\n",
       "      <td>Opinion: Joe Biden and Elon Musk, at opposite ...</td>\n",
       "      <td>Even after Nancy Pelosi's decision to step dow...</td>\n",
       "    </tr>\n",
       "  </tbody>\n",
       "</table>\n",
       "<p>100 rows × 2 columns</p>\n",
       "</div>"
      ],
      "text/plain": [
       "                                             headline  \\\n",
       "0   Opinion: The ocean's 'blue carbon' can be our ...   \n",
       "1   Australian who sexually abused children in the...   \n",
       "2   Opinion: 'Africa's COP' made some big promises...   \n",
       "3   Wordle frustration inspires Cambridge Dictiona...   \n",
       "4   Disney+ beats subscriber expectations but that...   \n",
       "..                                                ...   \n",
       "95  Netanyahu is back. Here's what that means for ...   \n",
       "96  Flight carbon calculators and offsets: How do ...   \n",
       "97  As Biden ramps up for a Trump rematch, Democra...   \n",
       "98  Plant-based milk is better than dairy for the ...   \n",
       "99  Opinion: Joe Biden and Elon Musk, at opposite ...   \n",
       "\n",
       "                                                 text  \n",
       "0   Our oceans store vast amounts of carbon, and p...  \n",
       "1   An Australian man already sentenced to life in...  \n",
       "2   As negotiations in the Egyptian resort of Shar...  \n",
       "3   The endless permutations of five-letter words ...  \n",
       "4   Disney's fourth quarter earnings were a mix of...  \n",
       "..                                                ...  \n",
       "95  Benjamin Netanyahu is set to resurrect his pol...  \n",
       "96  Airlines and comparison portals are all offeri...  \n",
       "97  Top Democrats see Republicans' unenthusiastic ...  \n",
       "98  Do people really need milk, considering the im...  \n",
       "99  Even after Nancy Pelosi's decision to step dow...  \n",
       "\n",
       "[100 rows x 2 columns]"
      ]
     },
     "execution_count": 4,
     "metadata": {},
     "output_type": "execute_result"
    }
   ],
   "source": [
    "import pandas as pd\n",
    "\n",
    "data = pd.DataFrame({'headline' : global_headlines, 'text' : global_articles})\n",
    "data"
   ]
  },
  {
   "cell_type": "code",
   "execution_count": 8,
   "metadata": {},
   "outputs": [],
   "source": [
    "from pyhere import here\n",
    "\n",
    "data.to_csv(here('news_data.csv'), index = False)"
   ]
  }
 ],
 "metadata": {
  "kernelspec": {
   "display_name": "Python 3.10.4 ('ANLY-590')",
   "language": "python",
   "name": "python3"
  },
  "language_info": {
   "codemirror_mode": {
    "name": "ipython",
    "version": 3
   },
   "file_extension": ".py",
   "mimetype": "text/x-python",
   "name": "python",
   "nbconvert_exporter": "python",
   "pygments_lexer": "ipython3",
   "version": "3.10.4"
  },
  "orig_nbformat": 4,
  "vscode": {
   "interpreter": {
    "hash": "4bb21ef1b3f10bfaedcb4678b5de8839cfaab0ab24fb3517bc2ab42c3a8823a2"
   }
  }
 },
 "nbformat": 4,
 "nbformat_minor": 2
}
